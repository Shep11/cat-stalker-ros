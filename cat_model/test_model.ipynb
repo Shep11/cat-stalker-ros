{
 "cells": [
  {
   "cell_type": "markdown",
   "id": "b2368e15",
   "metadata": {},
   "source": [
    "This notebook is for testing purposes."
   ]
  },
  {
   "cell_type": "code",
   "execution_count": null,
   "id": "4c29ff00",
   "metadata": {
    "vscode": {
     "languageId": "plaintext"
    }
   },
   "outputs": [],
   "source": [
    "import tensorflow as tf\n",
    "from tensorflow.keras.preprocessing import image\n",
    "import numpy as np\n",
    "import matplotlib.pyplot as plt"
   ]
  },
  {
   "cell_type": "markdown",
   "id": "68d91cbf",
   "metadata": {},
   "source": [
    "Functions"
   ]
  },
  {
   "cell_type": "code",
   "execution_count": null,
   "id": "27236c7d",
   "metadata": {
    "vscode": {
     "languageId": "plaintext"
    }
   },
   "outputs": [],
   "source": [
    "def run_model(model, imgpath):\n",
    "\n",
    "    img = image.load_img(imagepath, target_size=(224, 224))  # Resize\n",
    "\n",
    "    # convert to array\n",
    "    img_array = image.img_to_array(img)\n",
    "    img_array = np.expand_dims(img_array, axis=0)\n",
    "    img_array = img_array / 255.0  # Normalize to [0, 1]\n",
    "\n",
    "    plt.imshow(img)\n",
    "    plt.axis('off')\n",
    "    plt.show()\n",
    "\n",
    "    prediction = model.predict(img1_array) # this needs to be adjusted\n",
    "\n",
    "    # Debug\n",
    "    print(f\"Prediction shape: {prediction.shape}\")\n",
    "    print(f\"Prediction value: {prediction[0][0]:.4f}\")\n",
    "    print(f\"Prediction: {prediction}\")\n",
    "    print(f\"Image: {imgpath}\")\n",
    "\n",
    "    if prediction[0][0] < 0.5:\n",
    "        print(\"It's a cat!\")\n",
    "    else:\n",
    "        print(\"It's not a cat.\")"
   ]
  },
  {
   "cell_type": "markdown",
   "id": "a2c1e919",
   "metadata": {},
   "source": [
    "MODEL TESTING"
   ]
  },
  {
   "cell_type": "code",
   "execution_count": null,
   "id": "a7f1c136",
   "metadata": {
    "vscode": {
     "languageId": "plaintext"
    }
   },
   "outputs": [],
   "source": [
    "def main():\n",
    "    # Load the saved model\n",
    "    # Ignore the compilation warning--don't have to bother with it ATM\n",
    "    model = tf.keras.models.load_model(\"cat_detector.h5\")\n",
    "\n",
    "    # image paths\n",
    "    img1p = \"test_images/cookie.jpg\"\n",
    "    img2p = \"test_images/noortree.jpg\"\n",
    "    img3p = \"test_images/noorbag.jpg\"\n",
    "    img4p = \"test_images/dude.jpg\"\n",
    "\n",
    "    run_model(model, img1p)\n",
    "    run_model(model, img2p)\n",
    "    run_model(model, img3p)\n",
    "    run_model(model, img4p)"
   ]
  },
  {
   "cell_type": "code",
   "execution_count": null,
   "id": "74c7bb84",
   "metadata": {
    "vscode": {
     "languageId": "plaintext"
    }
   },
   "outputs": [],
   "source": [
    "main()"
   ]
  }
 ],
 "metadata": {
  "language_info": {
   "name": "python"
  }
 },
 "nbformat": 4,
 "nbformat_minor": 5
}
