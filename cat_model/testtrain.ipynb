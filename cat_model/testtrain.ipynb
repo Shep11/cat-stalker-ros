{
 "cells": [
  {
   "cell_type": "code",
   "execution_count": null,
   "metadata": {},
   "outputs": [],
   "source": [
    "import tensorflow as tf\n",
    "\n",
    "import numpy as np\n",
    "import matplotlib.pyplot as plt\n",
    "#import h5py\n",
    "import os"
   ]
  },
  {
   "cell_type": "code",
   "execution_count": null,
   "metadata": {},
   "outputs": [],
   "source": [
    "# Define dataset path\n",
    "DATASET_PATH = \"cat_model/dataset\"\n",
    "\n",
    "# Image parameters\n",
    "IMG_SIZE = (224, 224)\n",
    "BATCH_SIZE = 32"
   ]
  },
  {
   "cell_type": "code",
   "execution_count": null,
   "metadata": {},
   "outputs": [],
   "source": [
    "# Load datasets\n",
    "train_dataset = tf.keras.preprocessing.image_dataset_from_directory(\n",
    "    os.path.join(DATASET_PATH, \"train\"),\n",
    "    image_size=IMG_SIZE,\n",
    "    batch_size=BATCH_SIZE,\n",
    "    label_mode=\"binary\"\n",
    ")\n",
    "\n",
    "val_dataset = tf.keras.preprocessing.image_dataset_from_directory(\n",
    "    os.path.join(DATASET_PATH, \"val\"),\n",
    "    image_size=IMG_SIZE,\n",
    "    batch_size=BATCH_SIZE,\n",
    "    label_mode=\"binary\"\n",
    ")\n",
    "\n",
    "test_dataset = tf.keras.preprocessing.image_dataset_from_directory(\n",
    "    os.path.join(DATASET_PATH, \"test\"),\n",
    "    image_size=IMG_SIZE,\n",
    "    batch_size=BATCH_SIZE,\n",
    "    label_mode=\"binary\"\n",
    ")"
   ]
  },
  {
   "cell_type": "code",
   "execution_count": null,
   "metadata": {},
   "outputs": [],
   "source": [
    "# Data Augmentation\n",
    "data_augmentation = tf.keras.Sequential([\n",
    "    tf.keras.layers.RandomFlip(\"horizontal\"),\n",
    "    tf.keras.layers.RandomRotation(0.2),\n",
    "    tf.keras.layers.RandomZoom(0.2),\n",
    "])"
   ]
  },
  {
   "cell_type": "code",
   "execution_count": null,
   "metadata": {},
   "outputs": [],
   "source": [
    "# Normalize pixel values (rescale to [0,1])\n",
    "normalization_layer = tf.keras.layers.Rescaling(1./255)\n",
    "train_dataset = train_dataset.map(lambda x, y: (data_augmentation(normalization_layer(x), training=True), y))\n",
    "val_dataset = val_dataset.map(lambda x, y: (normalization_layer(x), y))\n",
    "test_dataset = test_dataset.map(lambda x, y: (normalization_layer(x), y))"
   ]
  },
  {
   "cell_type": "code",
   "execution_count": null,
   "metadata": {},
   "outputs": [],
   "source": [
    "# Load MobileNetV2 without top layers (pretrained on ImageNet)\n",
    "base_model = tf.keras.applications.MobileNetV2(\n",
    "    input_shape=(224, 224, 3),\n",
    "    include_top=False,\n",
    "    weights=\"imagenet\"\n",
    ")\n",
    "\n",
    "# Freeze first 100 layers\n",
    "base_model.trainable = True\n",
    "for layer in base_model.layers[:100]:  \n",
    "    layer.trainable = False"
   ]
  },
  {
   "cell_type": "code",
   "execution_count": null,
   "metadata": {},
   "outputs": [],
   "source": [
    "# Build custom model\n",
    "# THIS MIGHT NEED ADJUSTMENT LATER\n",
    "model = tf.keras.Sequential([\n",
    "    base_model,\n",
    "    tf.keras.layers.GlobalAveragePooling2D(),\n",
    "    tf.keras.layers.Dense(128, activation=\"relu\"),\n",
    "    tf.keras.layers.Dropout(0.5),  # dropout to reduce overfitting\n",
    "    tf.keras.layers.Dense(1, activation=\"sigmoid\")  # Binary classification\n",
    "])"
   ]
  },
  {
   "cell_type": "code",
   "execution_count": null,
   "metadata": {},
   "outputs": [],
   "source": [
    "model.compile(\n",
    "    optimizer=tf.keras.optimizers.Adam(learning_rate=0.0001), \n",
    "    loss=\"binary_crossentropy\",\n",
    "    metrics=[\"accuracy\"]\n",
    ")\n",
    "\n",
    "# Early stopping to prevent overfitting\n",
    "early_stopping = tf.keras.callbacks.EarlyStopping(\n",
    "    monitor=\"val_loss\",\n",
    "    patience=3,  \n",
    "    restore_best_weights=True\n",
    ")"
   ]
  },
  {
   "cell_type": "code",
   "execution_count": null,
   "metadata": {},
   "outputs": [],
   "source": [
    "# Train the model\n",
    "EPOCHS = 20  # tends to stop at 10\n",
    "history = model.fit(\n",
    "    train_dataset,\n",
    "    validation_data=val_dataset,\n",
    "    epochs=EPOCHS,\n",
    "    callbacks=[early_stopping]\n",
    ")"
   ]
  },
  {
   "cell_type": "code",
   "execution_count": null,
   "metadata": {},
   "outputs": [],
   "source": [
    "# Evaluate the model on test data\n",
    "test_loss, test_acc = model.evaluate(test_dataset)\n",
    "print(f\"Test Accuracy: {test_acc:.4f}\")\n",
    "\n",
    "# Plot training history\n",
    "plt.plot(history.history[\"accuracy\"], label=\"train accuracy\")\n",
    "plt.plot(history.history[\"val_accuracy\"], label=\"val accuracy\")\n",
    "plt.xlabel(\"Epochs\")\n",
    "plt.ylabel(\"Accuracy\")\n",
    "plt.legend()\n",
    "plt.show()"
   ]
  },
  {
   "cell_type": "code",
   "execution_count": null,
   "metadata": {},
   "outputs": [],
   "source": [
    "# Save\n",
    "model.save(\"cat_detectorX.h5\")\n",
    "print(\"Model saved as cat_detectorX.h5\")"
   ]
  },
  {
   "cell_type": "code",
   "execution_count": null,
   "metadata": {},
   "outputs": [],
   "source": [
    "model.summary()"
   ]
  },
  {
   "cell_type": "markdown",
   "metadata": {},
   "source": [
    "TESTING ON IMAGES"
   ]
  },
  {
   "cell_type": "code",
   "execution_count": null,
   "metadata": {},
   "outputs": [],
   "source": [
    "import tensorflow as tf\n",
    "#import keras_preprocessing\n",
    "#from keras import preprocessing\n",
    "from keras_preprocessing import image\n",
    "import numpy as np\n",
    "import matplotlib.pyplot as plt"
   ]
  },
  {
   "cell_type": "code",
   "execution_count": null,
   "metadata": {},
   "outputs": [],
   "source": [
    "# Load the saved model\n",
    "# Ignore the compilation warning--don't have to bother with it ATM\n",
    "model = tf.keras.models.load_model(\"cat_detector.h5\")"
   ]
  },
  {
   "cell_type": "code",
   "execution_count": null,
   "metadata": {},
   "outputs": [],
   "source": [
    "image_path = \"5200698631_f85e6dbb9d_z.jpg\"\n",
    "\n",
    "img = image.load_img(image_path, target_size=(224, 224))  # Resize\n",
    "plt.imshow(img) \n",
    "plt.axis('off')\n",
    "plt.show()\n",
    "\n",
    "img_array = image.img_to_array(img) \n",
    "img_array = np.expand_dims(img_array, axis=0) \n",
    "img_array = img_array / 255.0  # Normalize to [0, 1]\n",
    "\n",
    "prediction = model.predict(img_array) # this needs to be adjusted\n",
    "\n",
    "# Debug\n",
    "print(f\"Prediction shape: {prediction.shape}\")\n",
    "print(f\"Prediction value: {prediction[0][0]:.4f}\")\n",
    "\n",
    "if prediction[0][0] < 0.5:\n",
    "    print(\"It's a cat!\")\n",
    "else:\n",
    "    print(\"It's not a cat.\")"
   ]
  },
  {
   "cell_type": "code",
   "execution_count": null,
   "metadata": {},
   "outputs": [],
   "source": [
    "image_path = \"20231213_062238.jpg\"\n",
    "\n",
    "img = image.load_img(image_path, target_size=(224, 224))  # Resize\n",
    "plt.imshow(img) \n",
    "plt.axis('off')\n",
    "plt.show()\n",
    "\n",
    "img_array = image.img_to_array(img) \n",
    "img_array = np.expand_dims(img_array, axis=0) \n",
    "img_array = img_array / 255.0  # Normalize to [0, 1]\n",
    "\n",
    "prediction = model.predict(img_array)\n",
    "\n",
    "# Debug\n",
    "print(f\"Prediction shape: {prediction.shape}\")\n",
    "print(f\"Prediction value: {prediction[0][0]:.4f}\")\n",
    "\n",
    "if prediction[0][0] < 0.5:\n",
    "    print(\"It's a cat!\")\n",
    "else:\n",
    "    print(\"It's not a cat.\")"
   ]
  },
  {
   "cell_type": "code",
   "execution_count": null,
   "metadata": {},
   "outputs": [],
   "source": [
    "image_path = \"20240418_123224.jpg\"\n",
    "\n",
    "img = image.load_img(image_path, target_size=(224, 224))  # Resize\n",
    "plt.imshow(img) \n",
    "plt.axis('off')\n",
    "plt.show()\n",
    "\n",
    "img_array = image.img_to_array(img) \n",
    "img_array = np.expand_dims(img_array, axis=0) \n",
    "img_array = img_array / 255.0  # Normalize to [0, 1]\n",
    "\n",
    "prediction = model.predict(img_array)\n",
    "\n",
    "# Debug\n",
    "print(f\"Prediction shape: {prediction.shape}\")\n",
    "print(f\"Prediction value: {prediction[0][0]:.4f}\")\n",
    "\n",
    "if prediction[0][0] < 0.5:\n",
    "    print(\"It's a cat!\")\n",
    "else:\n",
    "    print(\"It's not a cat.\")"
   ]
  },
  {
   "cell_type": "code",
   "execution_count": null,
   "metadata": {},
   "outputs": [],
   "source": [
    "image_path = \"20231225_141845.jpg\"\n",
    "\n",
    "img = image.load_img(image_path, target_size=(224, 224))  # Resize\n",
    "plt.imshow(img) \n",
    "plt.axis('off')\n",
    "plt.show()\n",
    "\n",
    "img_array = image.img_to_array(img) \n",
    "img_array = np.expand_dims(img_array, axis=0) \n",
    "img_array = img_array / 255.0  # Normalize to [0, 1]\n",
    "\n",
    "prediction = model.predict(img_array)\n",
    "print(prediction)\n",
    "\n",
    "# Debug\n",
    "print(f\"Prediction shape: {prediction.shape}\")\n",
    "print(f\"Prediction value: {prediction[0][0]:.4f}\")\n",
    "\n",
    "if prediction[0][0] < 0.5:\n",
    "    print(\"It's a cat!\")\n",
    "else:\n",
    "    print(\"It's not a cat.\")"
   ]
  }
 ],
 "metadata": {
  "kernelspec": {
   "display_name": "fiftyone",
   "language": "python",
   "name": "python3"
  },
  "language_info": {
   "codemirror_mode": {
    "name": "ipython",
    "version": 3
   },
   "file_extension": ".py",
   "mimetype": "text/x-python",
   "name": "python",
   "nbconvert_exporter": "python",
   "pygments_lexer": "ipython3",
   "version": "3.10.16"
  }
 },
 "nbformat": 4,
 "nbformat_minor": 2
}
